{
 "cells": [
  {
   "cell_type": "code",
   "execution_count": 3,
   "id": "70498042",
   "metadata": {},
   "outputs": [
    {
     "name": "stdout",
     "output_type": "stream",
     "text": [
      "10\n",
      "100\n",
      "1000\n"
     ]
    }
   ],
   "source": [
    "#python identifiers\n",
    "number = 10\n",
    "print(number)\n",
    "\n",
    "_a = 100\n",
    "print(_a)\n",
    "\n",
    "x_y = 1000\n",
    "print(x_y)"
   ]
  },
  {
   "cell_type": "code",
   "execution_count": 5,
   "id": "d151c4d5",
   "metadata": {},
   "outputs": [
    {
     "name": "stdout",
     "output_type": "stream",
     "text": [
      "hello world\n"
     ]
    }
   ],
   "source": [
    "print(\"hello world\")"
   ]
  },
  {
   "cell_type": "code",
   "execution_count": 9,
   "id": "859b98f1",
   "metadata": {},
   "outputs": [
    {
     "data": {
      "text/plain": [
       "str"
      ]
     },
     "execution_count": 9,
     "metadata": {},
     "output_type": "execute_result"
    }
   ],
   "source": [
    "type(\"manohar\")"
   ]
  },
  {
   "cell_type": "code",
   "execution_count": 10,
   "id": "a8a3c011",
   "metadata": {},
   "outputs": [
    {
     "name": "stdout",
     "output_type": "stream",
     "text": [
      "11\n"
     ]
    }
   ],
   "source": [
    "a = 4\n",
    "b = 7\n",
    "sum = a+b\n",
    "print(sum)"
   ]
  },
  {
   "cell_type": "code",
   "execution_count": 12,
   "id": "75ff13f4",
   "metadata": {},
   "outputs": [
    {
     "name": "stdout",
     "output_type": "stream",
     "text": [
      "50\n",
      "50\n"
     ]
    }
   ],
   "source": [
    "a = 50\n",
    "b = a\n",
    "print(a)\n",
    "print(b)"
   ]
  },
  {
   "cell_type": "code",
   "execution_count": 13,
   "id": "d8c6d9bb",
   "metadata": {},
   "outputs": [
    {
     "name": "stdout",
     "output_type": "stream",
     "text": [
      "5000\n"
     ]
    }
   ],
   "source": [
    "a = 50\n",
    "b = 100\n",
    "mul = a * b\n",
    "print(mul)"
   ]
  },
  {
   "cell_type": "code",
   "execution_count": 14,
   "id": "ca4ddbfa",
   "metadata": {},
   "outputs": [
    {
     "name": "stdout",
     "output_type": "stream",
     "text": [
      "140719568972104\n",
      "140719568972104\n"
     ]
    }
   ],
   "source": [
    "a = 50\n",
    "b = a \n",
    "print(id(a))\n",
    "print(id(b))"
   ]
  },
  {
   "cell_type": "code",
   "execution_count": 24,
   "id": "7cf9966a",
   "metadata": {},
   "outputs": [
    {
     "name": "stdout",
     "output_type": "stream",
     "text": [
      "A B C D E F G\n"
     ]
    }
   ],
   "source": [
    "name = \"A\"\n",
    "Name = \"B\"\n",
    "naMe = \"C\"\n",
    "n_a_m_e = \"D\"\n",
    "_name = \"E\"\n",
    "_name_ = \"F\"\n",
    "na56me = \"G\"\n",
    "print(name,Name,naMe,n_a_m_e,_name,_name_,na56me)"
   ]
  },
  {
   "cell_type": "code",
   "execution_count": 26,
   "id": "73397dcc",
   "metadata": {},
   "outputs": [
    {
     "name": "stdout",
     "output_type": "stream",
     "text": [
      "100 100 100 200\n",
      "100\n"
     ]
    }
   ],
   "source": [
    "x=y=z= 100\n",
    "p = 200\n",
    "print(x,y,z,p)\n",
    "print(x)"
   ]
  },
  {
   "cell_type": "code",
   "execution_count": 29,
   "id": "fc47a07f",
   "metadata": {},
   "outputs": [
    {
     "name": "stdout",
     "output_type": "stream",
     "text": [
      "2\n",
      "4\n",
      "7\n"
     ]
    }
   ],
   "source": [
    "a,b,c = 2,4,7\n",
    "print(a)\n",
    "print (b)\n",
    "print (c)"
   ]
  },
  {
   "cell_type": "code",
   "execution_count": 1,
   "id": "0ff8b994",
   "metadata": {},
   "outputs": [
    {
     "name": "stdout",
     "output_type": "stream",
     "text": [
      "Hello, World!\n"
     ]
    }
   ],
   "source": [
    "print(\"Hello, World!\")"
   ]
  },
  {
   "cell_type": "code",
   "execution_count": 12,
   "id": "b9d72d91",
   "metadata": {},
   "outputs": [
    {
     "ename": "IndentationError",
     "evalue": "unexpected indent (3710128964.py, line 4)",
     "output_type": "error",
     "traceback": [
      "\u001b[1;36m  Cell \u001b[1;32mIn[12], line 4\u001b[1;36m\u001b[0m\n\u001b[1;33m    print(\"five is greater than two!\")\u001b[0m\n\u001b[1;37m    ^\u001b[0m\n\u001b[1;31mIndentationError\u001b[0m\u001b[1;31m:\u001b[0m unexpected indent\n"
     ]
    }
   ],
   "source": [
    "#indentation example:\n",
    "if 5>2:\n",
    " print(\"five is greater than two!\")\n",
    "    print(\"five is greater than two!\")"
   ]
  },
  {
   "cell_type": "code",
   "execution_count": 28,
   "id": "f3949d9f",
   "metadata": {},
   "outputs": [
    {
     "name": "stdout",
     "output_type": "stream",
     "text": [
      "hello,world!\n",
      "hello,end line comment!\n"
     ]
    }
   ],
   "source": [
    "#this is acomment.\n",
    "print(\"hello,world!\")\n",
    "\n",
    "print(\"hello,end line comment!\")   #this is a comment"
   ]
  },
  {
   "cell_type": "code",
   "execution_count": 30,
   "id": "5e0f742e",
   "metadata": {},
   "outputs": [
    {
     "name": "stdout",
     "output_type": "stream",
     "text": [
      "Cheers, Mate!\n"
     ]
    }
   ],
   "source": [
    "#print(\"Hello, World!\") #prevent python from executing code\n",
    "print(\"Cheers, Mate!\")"
   ]
  },
  {
   "cell_type": "code",
   "execution_count": 31,
   "id": "af4d08be",
   "metadata": {},
   "outputs": [
    {
     "name": "stdout",
     "output_type": "stream",
     "text": [
      "Hello, World!\n"
     ]
    }
   ],
   "source": [
    "#MULTI-LINE COMMENT\n",
    "#this is a comment\n",
    "#written in\n",
    "#more than just one line\n",
    "print(\"Hello, World!\")"
   ]
  },
  {
   "cell_type": "code",
   "execution_count": 32,
   "id": "f40c6814",
   "metadata": {},
   "outputs": [
    {
     "name": "stdout",
     "output_type": "stream",
     "text": [
      "Hello,triple quotes\n"
     ]
    }
   ],
   "source": [
    "\"\"\"\n",
    "this is a comment\n",
    "written in \n",
    "more than just one line\n",
    "\"\"\"\n",
    "print(\"Hello,triple quotes\")"
   ]
  },
  {
   "cell_type": "code",
   "execution_count": 33,
   "id": "bcdd5edd",
   "metadata": {},
   "outputs": [
    {
     "name": "stdout",
     "output_type": "stream",
     "text": [
      "5\n",
      "John\n"
     ]
    }
   ],
   "source": [
    "#creating variables\n",
    "X = 5\n",
    "name = \"John\"\n",
    "print(X)\n",
    "print(name)"
   ]
  },
  {
   "cell_type": "code",
   "execution_count": 35,
   "id": "44675004",
   "metadata": {},
   "outputs": [
    {
     "name": "stdout",
     "output_type": "stream",
     "text": [
      "now Iam str\n"
     ]
    }
   ],
   "source": [
    "#declared variables can be changable\n",
    "x = 4               #x is a int type\n",
    "x = \"now Iam str\"   #x is now str type\n",
    "print(x)"
   ]
  },
  {
   "cell_type": "code",
   "execution_count": 39,
   "id": "42c31a57",
   "metadata": {},
   "outputs": [
    {
     "name": "stdout",
     "output_type": "stream",
     "text": [
      "3 3 3.0\n"
     ]
    }
   ],
   "source": [
    "#casting\n",
    "x = str(3)  #x will be '3'\n",
    "y = int(3)  #x will be 3\n",
    "z = float(3) #x will be 3.0\n",
    "print(x,y,z)"
   ]
  },
  {
   "cell_type": "code",
   "execution_count": 43,
   "id": "d163618f",
   "metadata": {},
   "outputs": [
    {
     "name": "stdout",
     "output_type": "stream",
     "text": [
      "<class 'int'>\n",
      "<class 'str'>\n"
     ]
    }
   ],
   "source": [
    "#type() inbuild function\n",
    "x = 4\n",
    "y = \"prostack\"\n",
    "print(type(x))\n",
    "print(type(y))"
   ]
  },
  {
   "cell_type": "code",
   "execution_count": 44,
   "id": "f9662b6c",
   "metadata": {},
   "outputs": [
    {
     "name": "stdout",
     "output_type": "stream",
     "text": [
      "Jill jill\n",
      "jilly\n"
     ]
    }
   ],
   "source": [
    "#single or double Quotes\n",
    "X = \"Jill jill\"\n",
    "x = 'jilly'\n",
    "print(X)\n",
    "print(x)"
   ]
  },
  {
   "cell_type": "code",
   "execution_count": 46,
   "id": "b6eee569",
   "metadata": {},
   "outputs": [
    {
     "name": "stdout",
     "output_type": "stream",
     "text": [
      "4\n",
      "Sweety..\n"
     ]
    }
   ],
   "source": [
    "#case-sensitive\n",
    "a = 4\n",
    "A = \"Sweety..\"  #A will not overwrite a\n",
    "print(a)\n",
    "print(A)"
   ]
  },
  {
   "cell_type": "code",
   "execution_count": 47,
   "id": "28607d3b",
   "metadata": {},
   "outputs": [
    {
     "name": "stdout",
     "output_type": "stream",
     "text": [
      "jellyfish\n",
      "j\n",
      "y\n",
      "sh\n"
     ]
    }
   ],
   "source": [
    "#legal variables\n",
    "myvar = \"jellyfish\"\n",
    "my_var = \"j\"\n",
    "_my_var = \"e\"\n",
    "myVar = \"ll\"\n",
    "MYVAR = \"y\"\n",
    "myvar2 = \"fi\"\n",
    "mYvAr = \"sh\"\n",
    "print(myvar)\n",
    "print(my_var)\n",
    "print(MYVAR)\n",
    "print(mYvAr)"
   ]
  },
  {
   "cell_type": "code",
   "execution_count": 48,
   "id": "1eeb7b52",
   "metadata": {},
   "outputs": [
    {
     "name": "stdout",
     "output_type": "stream",
     "text": [
      "hushh...\n",
      "hushh...\n",
      "hushh..\n"
     ]
    }
   ],
   "source": [
    "#multi words variable names\n",
    "#camelCase\n",
    "myVariableName = \"hushh...\"\n",
    "#PascalCase\n",
    "MyVariableName = \"hushh...\"\n",
    "#snake_case\n",
    "my_variable_name = \"hushh..\"\n",
    "print(myVariableName)\n",
    "print(MyVariableName)\n",
    "print(my_variable_name)"
   ]
  },
  {
   "cell_type": "code",
   "execution_count": 50,
   "id": "4d6e4eaa",
   "metadata": {},
   "outputs": [
    {
     "name": "stdout",
     "output_type": "stream",
     "text": [
      "apple banana mango cherry\n"
     ]
    }
   ],
   "source": [
    "#unpacking a collection\n",
    "fruits = [\"apple\",\"banana\",\"mango\",\"cherry\"]\n",
    "w,x,y,z = fruits\n",
    "print(w,x,y,z)"
   ]
  },
  {
   "cell_type": "code",
   "execution_count": 55,
   "id": "f45bfea9",
   "metadata": {},
   "outputs": [
    {
     "name": "stdout",
     "output_type": "stream",
     "text": [
      "python is awesome\n"
     ]
    }
   ],
   "source": [
    "#print() function-> output variables \n",
    "x = \"python is awesome\"\n",
    "#print(x)\n",
    "#multiple variables\n",
    "x = \"python\"\n",
    "y = \"is\"\n",
    "z = \"awesome\"\n",
    "print(x,y,z)\n"
   ]
  },
  {
   "cell_type": "code",
   "execution_count": 63,
   "id": "86db3cfb",
   "metadata": {},
   "outputs": [
    {
     "name": "stdout",
     "output_type": "stream",
     "text": [
      "hey dude whatsapp!\n"
     ]
    }
   ],
   "source": [
    "# + operator in multiple variables\n",
    "x = \"hey \"\n",
    "y = \"dude \"\n",
    "z = \"whatsapp!\"\n",
    "print( x + y + z )"
   ]
  },
  {
   "cell_type": "code",
   "execution_count": 64,
   "id": "d0a72a45",
   "metadata": {},
   "outputs": [
    {
     "name": "stdout",
     "output_type": "stream",
     "text": [
      "11\n"
     ]
    }
   ],
   "source": [
    "#mathematical operator in multiple variables\n",
    "a = 4\n",
    "b = 7\n",
    "print(a + b)"
   ]
  },
  {
   "cell_type": "code",
   "execution_count": 65,
   "id": "9c0158a4",
   "metadata": {},
   "outputs": [
    {
     "ename": "TypeError",
     "evalue": "unsupported operand type(s) for +: 'int' and 'str'",
     "output_type": "error",
     "traceback": [
      "\u001b[1;31m---------------------------------------------------------------------------\u001b[0m",
      "\u001b[1;31mTypeError\u001b[0m                                 Traceback (most recent call last)",
      "Cell \u001b[1;32mIn[65], line 4\u001b[0m\n\u001b[0;32m      2\u001b[0m x \u001b[38;5;241m=\u001b[39m \u001b[38;5;241m5\u001b[39m\n\u001b[0;32m      3\u001b[0m y \u001b[38;5;241m=\u001b[39m \u001b[38;5;124m\"\u001b[39m\u001b[38;5;124min words five\u001b[39m\u001b[38;5;124m\"\u001b[39m\n\u001b[1;32m----> 4\u001b[0m \u001b[38;5;28mprint\u001b[39m(\u001b[43mx\u001b[49m\u001b[38;5;241;43m+\u001b[39;49m\u001b[43my\u001b[49m)\n",
      "\u001b[1;31mTypeError\u001b[0m: unsupported operand type(s) for +: 'int' and 'str'"
     ]
    }
   ],
   "source": [
    "#add of int and str datatypes\n",
    "x = 5\n",
    "y = \"in words five\"\n",
    "print(x+y)"
   ]
  },
  {
   "cell_type": "code",
   "execution_count": 68,
   "id": "73f99d3f",
   "metadata": {},
   "outputs": [
    {
     "name": "stdout",
     "output_type": "stream",
     "text": [
      "5 in words five\n"
     ]
    }
   ],
   "source": [
    "#comma use in diff datatypes\n",
    "x = 5\n",
    "y = \"in words five\"\n",
    "print(x,y)"
   ]
  },
  {
   "cell_type": "code",
   "execution_count": 71,
   "id": "55a434dd",
   "metadata": {},
   "outputs": [
    {
     "name": "stdout",
     "output_type": "stream",
     "text": [
      "python is a high-level language\n"
     ]
    }
   ],
   "source": [
    "#global variable\n",
    "x = \"high-level language\"\n",
    "def myfunc():\n",
    "    print(\"python is a \" + x)\n",
    "myfunc()"
   ]
  },
  {
   "cell_type": "code",
   "execution_count": 74,
   "id": "5f1bbe5e",
   "metadata": {},
   "outputs": [
    {
     "name": "stdout",
     "output_type": "stream",
     "text": [
      "python is fantastic\n",
      "python is awesome\n"
     ]
    }
   ],
   "source": [
    "#local variable ang global variable\n",
    "x = \"awesome\"\n",
    "def myfunc():\n",
    "    x = \"fantastic\"\n",
    "    print(\"python is \" + x)\n",
    "myfunc()\n",
    "print(\"python is \" + x)"
   ]
  },
  {
   "cell_type": "code",
   "execution_count": 76,
   "id": "542997cb",
   "metadata": {},
   "outputs": [
    {
     "name": "stdout",
     "output_type": "stream",
     "text": [
      "python is a simple language\n"
     ]
    }
   ],
   "source": [
    "#global keyword to make global variable\n",
    "def myfunc():\n",
    "    global x\n",
    "    x = \"simple\"\n",
    "myfunc()\n",
    "print(\"python is a \" + x + \" language\")"
   ]
  },
  {
   "cell_type": "code",
   "execution_count": 77,
   "id": "e199832a",
   "metadata": {},
   "outputs": [
    {
     "name": "stdout",
     "output_type": "stream",
     "text": [
      "python is a fantastic\n"
     ]
    }
   ],
   "source": [
    "#change global-variable inside func using globalkeyword\n",
    "x = \"awesome\"\n",
    "def myfunc():\n",
    "    global x\n",
    "    x = \"fantastic\"\n",
    "myfunc()\n",
    "print(\"python is a \" + x)"
   ]
  },
  {
   "cell_type": "code",
   "execution_count": 1,
   "id": "4921d03d",
   "metadata": {},
   "outputs": [
    {
     "name": "stdout",
     "output_type": "stream",
     "text": [
      "<class 'dict'>\n"
     ]
    }
   ],
   "source": [
    "#datatypes\n",
    "x = {\n",
    "    \"name\": \"ram\",\n",
    "}\n",
    "print(type(x))"
   ]
  },
  {
   "cell_type": "code",
   "execution_count": 2,
   "id": "b2afed14",
   "metadata": {},
   "outputs": [
    {
     "name": "stdout",
     "output_type": "stream",
     "text": [
      "<class 'tuple'>\n"
     ]
    }
   ],
   "source": [
    "x = ()\n",
    "print(type(x))"
   ]
  },
  {
   "cell_type": "code",
   "execution_count": 3,
   "id": "4f7dcaa2",
   "metadata": {},
   "outputs": [
    {
     "name": "stdout",
     "output_type": "stream",
     "text": [
      "ramsita\n",
      "<class 'str'>\n"
     ]
    }
   ],
   "source": [
    "#str\n",
    "x = \"ramsita\"\n",
    "print(x)       #print x value\n",
    "print(type(x))  #print datatype of x"
   ]
  },
  {
   "cell_type": "code",
   "execution_count": 4,
   "id": "bc1fac4d",
   "metadata": {},
   "outputs": [
    {
     "name": "stdout",
     "output_type": "stream",
     "text": [
      "20\n",
      "<class 'int'>\n"
     ]
    }
   ],
   "source": [
    "#int\n",
    "x = 20\n",
    "print(x)       #printing x value\n",
    "print(type(x)) #printing datatype of x"
   ]
  },
  {
   "cell_type": "code",
   "execution_count": 5,
   "id": "554ea560",
   "metadata": {},
   "outputs": [
    {
     "name": "stdout",
     "output_type": "stream",
     "text": [
      "20.5\n",
      "<class 'float'>\n"
     ]
    }
   ],
   "source": [
    "#float\n",
    "x = 20.5\n",
    "print(x)   #printing x value\n",
    "print(type(x))  #printing datatype of x"
   ]
  },
  {
   "cell_type": "code",
   "execution_count": 10,
   "id": "83019d34",
   "metadata": {},
   "outputs": [
    {
     "name": "stdout",
     "output_type": "stream",
     "text": [
      "6j\n",
      "<class 'complex'>\n"
     ]
    }
   ],
   "source": [
    "#complex\n",
    "x = 6j\n",
    "print(x)  #printing x value\n",
    "print(type(x))  #printing datatype of x "
   ]
  },
  {
   "cell_type": "code",
   "execution_count": 11,
   "id": "c7cedb77",
   "metadata": {},
   "outputs": [
    {
     "name": "stdout",
     "output_type": "stream",
     "text": [
      "['apple', 'banana', 'cherry']\n",
      "<class 'list'>\n"
     ]
    }
   ],
   "source": [
    "#list\n",
    "x = [\"apple\",\"banana\",\"cherry\"]\n",
    "print(x)  #display x value\n",
    "print(type(x))  #display datatype of x"
   ]
  },
  {
   "cell_type": "code",
   "execution_count": 12,
   "id": "50aec628",
   "metadata": {},
   "outputs": [
    {
     "name": "stdout",
     "output_type": "stream",
     "text": [
      "('apple', 'strawberry', 'graphes')\n",
      "<class 'tuple'>\n"
     ]
    }
   ],
   "source": [
    "#tuple\n",
    "x = (\"apple\",\"strawberry\",\"graphes\")\n",
    "print(x)\n",
    "print(type(x))"
   ]
  },
  {
   "cell_type": "code",
   "execution_count": 13,
   "id": "7fac4c80",
   "metadata": {},
   "outputs": [
    {
     "name": "stdout",
     "output_type": "stream",
     "text": [
      "range(0, 5)\n",
      "<class 'range'>\n"
     ]
    }
   ],
   "source": [
    "#range\n",
    "x = range(5)\n",
    "print(x)\n",
    "print(type(x))"
   ]
  },
  {
   "cell_type": "code",
   "execution_count": 14,
   "id": "d370a824",
   "metadata": {},
   "outputs": [
    {
     "name": "stdout",
     "output_type": "stream",
     "text": [
      "{'name': 'sita', 'gender': 'female'}\n",
      "<class 'dict'>\n"
     ]
    }
   ],
   "source": [
    "#dict\n",
    "x = {\"name\": \"sita\",\"gender\" : \"female\"}\n",
    "print(x)\n",
    "print(type(x))"
   ]
  },
  {
   "cell_type": "code",
   "execution_count": 15,
   "id": "c45d18a8",
   "metadata": {},
   "outputs": [
    {
     "name": "stdout",
     "output_type": "stream",
     "text": [
      "{'jackfruit', 'mango', 'apple'}\n",
      "<class 'set'>\n"
     ]
    }
   ],
   "source": [
    "#set\n",
    "x = {\"apple\",\"mango\",\"jackfruit\"}\n",
    "print(x)\n",
    "print(type(x))"
   ]
  },
  {
   "cell_type": "code",
   "execution_count": 16,
   "id": "78750026",
   "metadata": {},
   "outputs": [
    {
     "name": "stdout",
     "output_type": "stream",
     "text": [
      "frozenset({'banana', 'apple', 'pineapple'})\n",
      "<class 'frozenset'>\n"
     ]
    }
   ],
   "source": [
    "#frozenset\n",
    "x = frozenset({\"apple\",\"banana\",\"pineapple\"})\n",
    "print(x)\n",
    "print(type(x))"
   ]
  },
  {
   "cell_type": "code",
   "execution_count": 17,
   "id": "a21388ec",
   "metadata": {},
   "outputs": [
    {
     "name": "stdout",
     "output_type": "stream",
     "text": [
      "True\n",
      "<class 'bool'>\n"
     ]
    }
   ],
   "source": [
    "#boolean\n",
    "x=True \n",
    "print(x)\n",
    "print(type(x))"
   ]
  },
  {
   "cell_type": "code",
   "execution_count": 20,
   "id": "7d7197c9",
   "metadata": {},
   "outputs": [
    {
     "name": "stdout",
     "output_type": "stream",
     "text": [
      "b'hello'\n",
      "<class 'bytes'>\n",
      "bytearray(b'\\x00\\x00\\x00\\x00\\x00')\n",
      "<class 'bytearray'>\n",
      "<memory at 0x000001B59C94BAC0>\n",
      "<class 'memoryview'>\n"
     ]
    }
   ],
   "source": [
    "#binary datatypes\n",
    "x = b\"hello\"\n",
    "print(x)\n",
    "print(type(x))\n",
    "\n",
    "x = bytearray(5)\n",
    "print(x)\n",
    "print(type(x))\n",
    "\n",
    "x = memoryview(bytes(5))\n",
    "print(x)\n",
    "print(type(x))"
   ]
  },
  {
   "cell_type": "code",
   "execution_count": 22,
   "id": "e6550c3c",
   "metadata": {},
   "outputs": [
    {
     "name": "stdout",
     "output_type": "stream",
     "text": [
      "None\n",
      "<class 'NoneType'>\n"
     ]
    }
   ],
   "source": [
    "#none\n",
    "x = None\n",
    "print(x)\n",
    "print(type(x))"
   ]
  },
  {
   "cell_type": "code",
   "execution_count": 24,
   "id": "8479fe45",
   "metadata": {},
   "outputs": [
    {
     "name": "stdout",
     "output_type": "stream",
     "text": [
      "10\n",
      "<class 'int'>\n"
     ]
    }
   ],
   "source": [
    "#specific datatype\n",
    "x = str(\"hello world\")\n",
    "print(x)\n",
    "print(type(x))"
   ]
  },
  {
   "cell_type": "code",
   "execution_count": 25,
   "id": "6a2cbcb5",
   "metadata": {},
   "outputs": [
    {
     "name": "stdout",
     "output_type": "stream",
     "text": [
      "35000.0\n"
     ]
    }
   ],
   "source": [
    "x =35e3\n",
    "print(x)"
   ]
  },
  {
   "cell_type": "code",
   "execution_count": 33,
   "id": "3ff8dad0",
   "metadata": {},
   "outputs": [
    {
     "name": "stdout",
     "output_type": "stream",
     "text": [
      "35000.0\n"
     ]
    }
   ],
   "source": [
    "x = 35e3\n",
    "print(x)"
   ]
  },
  {
   "cell_type": "code",
   "execution_count": 36,
   "id": "1abdf045",
   "metadata": {},
   "outputs": [
    {
     "name": "stdout",
     "output_type": "stream",
     "text": [
      "5j\n",
      "<class 'complex'>\n"
     ]
    }
   ],
   "source": [
    "x = 5j\n",
    "print(x)\n",
    "print(type(x))"
   ]
  },
  {
   "cell_type": "code",
   "execution_count": 37,
   "id": "c7e88e4d",
   "metadata": {},
   "outputs": [
    {
     "name": "stdout",
     "output_type": "stream",
     "text": [
      "3\n"
     ]
    }
   ],
   "source": [
    "import random\n",
    "print(random.randrange(1,10))"
   ]
  },
  {
   "cell_type": "code",
   "execution_count": 39,
   "id": "b49f5190",
   "metadata": {},
   "outputs": [
    {
     "name": "stdout",
     "output_type": "stream",
     "text": [
      "10.0\n",
      "10\n"
     ]
    }
   ],
   "source": [
    "#type conversion in numbers\n",
    "x = 10\n",
    "y = 10.2\n",
    "z = 45j\n",
    "#convert int to float\n",
    "a = float(x)\n",
    "print(a)\n",
    "\n",
    "#convert float to int\n",
    "b = int(y)\n",
    "print(b)\n",
    "\n",
    "#we cannot convert complex numbers to other type"
   ]
  },
  {
   "cell_type": "code",
   "execution_count": 42,
   "id": "4dc84bff",
   "metadata": {},
   "outputs": [
    {
     "name": "stdout",
     "output_type": "stream",
     "text": [
      "1 1 2\n",
      "1.0 2.0 2.5 3.3\n",
      "s1 1 2.2\n"
     ]
    }
   ],
   "source": [
    "#casting variables to specific one type\n",
    "#int\n",
    "x = int(1)\n",
    "y = int(1.0)\n",
    "z = int(\"2\")\n",
    "print(x,y,z)\n",
    "\n",
    "#float\n",
    "x = float(1)\n",
    "y = float(\"2\")\n",
    "z = float(2.5)\n",
    "p = float(\"3.3\")\n",
    "print(x,y,z,p)\n",
    "\n",
    "#str\n",
    "x = str(\"s1\")\n",
    "y = str(1)\n",
    "z = str(2.2)\n",
    "print(x,y,z)"
   ]
  },
  {
   "cell_type": "code",
   "execution_count": null,
   "id": "9c18e861",
   "metadata": {},
   "outputs": [],
   "source": []
  }
 ],
 "metadata": {
  "kernelspec": {
   "display_name": "Python 3 (ipykernel)",
   "language": "python",
   "name": "python3"
  },
  "language_info": {
   "codemirror_mode": {
    "name": "ipython",
    "version": 3
   },
   "file_extension": ".py",
   "mimetype": "text/x-python",
   "name": "python",
   "nbconvert_exporter": "python",
   "pygments_lexer": "ipython3",
   "version": "3.11.3"
  }
 },
 "nbformat": 4,
 "nbformat_minor": 5
}
