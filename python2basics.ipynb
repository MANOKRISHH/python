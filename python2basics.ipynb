{
 "cells": [
  {
   "cell_type": "code",
   "execution_count": 2,
   "id": "0611afe1",
   "metadata": {},
   "outputs": [
    {
     "name": "stdout",
     "output_type": "stream",
     "text": [
      "Hello\n",
      "Hello\n",
      "Hello\n",
      "Realize the full security, business, and \n",
      "user experiencebenefits of eliminating passwords by \n",
      "offering passkey logins by default with fallbacks to \n",
      "other passwordless methods..\n",
      "Realize the full security, business, and \n",
      "user experiencebenefits of eliminating passwords by \n",
      "offering passkey logins by default with fallbacks to \n",
      "other passwordless methods..\n"
     ]
    }
   ],
   "source": [
    "#PYTHON STRINGS\n",
    "\n",
    "#strings?\n",
    "print(\"Hello\")\n",
    "print('Hello')\n",
    "\n",
    "a = \"Hello\"\n",
    "print(a)\n",
    "\n",
    "#double quotes\n",
    "a = \"\"\"Realize the full security, business, and \n",
    "user experiencebenefits of eliminating passwords by \n",
    "offering passkey logins by default with fallbacks to \n",
    "other passwordless methods..\"\"\"\n",
    "print(a)\n",
    "\n",
    "#single quotes also\n",
    "a = '''Realize the full security, business, and \n",
    "user experiencebenefits of eliminating passwords by \n",
    "offering passkey logins by default with fallbacks to \n",
    "other passwordless methods..'''\n",
    "print(a)\n"
   ]
  },
  {
   "cell_type": "code",
   "execution_count": 16,
   "id": "ee016f0a",
   "metadata": {},
   "outputs": [
    {
     "name": "stdout",
     "output_type": "stream",
     "text": [
      "tiger likes to drink raw fresh blood,\n",
      "and also love to eat deer hearts\n"
     ]
    }
   ],
   "source": [
    "x = '''tiger likes to drink raw fresh blood,\n",
    "and also love to eat deer hearts'''\n",
    "print(x)"
   ]
  },
  {
   "cell_type": "code",
   "execution_count": 22,
   "id": "7a816df9",
   "metadata": {},
   "outputs": [
    {
     "name": "stdout",
     "output_type": "stream",
     "text": [
      "H\n"
     ]
    }
   ],
   "source": [
    "a = \"Hello, world!\"\n",
    "print(a[0])"
   ]
  },
  {
   "cell_type": "code",
   "execution_count": 23,
   "id": "6f1b6165",
   "metadata": {},
   "outputs": [
    {
     "name": "stdout",
     "output_type": "stream",
     "text": [
      "b\n",
      "a\n",
      "n\n",
      "a\n",
      "n\n",
      "a\n"
     ]
    }
   ],
   "source": [
    "#str are arrays in python ,can loop characters in str\n",
    "for x in \"banana\":\n",
    "    print(x)"
   ]
  },
  {
   "cell_type": "code",
   "execution_count": 24,
   "id": "f839b86d",
   "metadata": {},
   "outputs": [
    {
     "name": "stdout",
     "output_type": "stream",
     "text": [
      "9\n"
     ]
    }
   ],
   "source": [
    "#len() function\n",
    "a = \"hey! dude\"\n",
    "print(len(a))"
   ]
  },
  {
   "cell_type": "code",
   "execution_count": 25,
   "id": "148d0962",
   "metadata": {},
   "outputs": [
    {
     "name": "stdout",
     "output_type": "stream",
     "text": [
      "True\n"
     ]
    }
   ],
   "source": [
    "#check str using in keyword\n",
    "passage = \"the best things in life is hardworking nature\"\n",
    "print(\"nature\" in passage)"
   ]
  },
  {
   "cell_type": "code",
   "execution_count": 26,
   "id": "cafe70cd",
   "metadata": {},
   "outputs": [
    {
     "name": "stdout",
     "output_type": "stream",
     "text": [
      "yes, 'nature' is present.\n"
     ]
    }
   ],
   "source": [
    "#to display present in string using if statement \n",
    "passage = \"the best things in life is hardworking nature\"\n",
    "if \"nature\" in passage:\n",
    "    print(\"yes, 'nature' is present.\")"
   ]
  },
  {
   "cell_type": "code",
   "execution_count": 28,
   "id": "823e33c2",
   "metadata": {},
   "outputs": [
    {
     "name": "stdout",
     "output_type": "stream",
     "text": [
      "True\n"
     ]
    }
   ],
   "source": [
    "#check if NOT\n",
    "CSK = \"the yellow team in the ipl\"\n",
    "print(\"blue\" not in CSK)"
   ]
  },
  {
   "cell_type": "code",
   "execution_count": 29,
   "id": "e957898b",
   "metadata": {},
   "outputs": [
    {
     "name": "stdout",
     "output_type": "stream",
     "text": [
      "No, 'black' is not present.\n"
     ]
    }
   ],
   "source": [
    "#if statement use in string to check character not present,\n",
    "#using not in keyword.\n",
    "CSK = \"the yellow team in the ipl\"\n",
    "if \"black\" not in CSK:\n",
    "    print(\"No, 'black' is not present.\")"
   ]
  },
  {
   "cell_type": "code",
   "execution_count": 38,
   "id": "da529826",
   "metadata": {},
   "outputs": [
    {
     "name": "stdout",
     "output_type": "stream",
     "text": [
      "noha\n",
      "DEV\n",
      "llo, World\n"
     ]
    }
   ],
   "source": [
    "#slicing str\n",
    "b = \"manoharraj!\"\n",
    "print(b[2:6])\n",
    "\n",
    "#slice from start\n",
    "c =  \"DEVIL\"\n",
    "print(c[:3])\n",
    "\n",
    "# slice to the End\n",
    "b = \"Hello, World\"\n",
    "print(b[2:])"
   ]
  },
  {
   "cell_type": "code",
   "execution_count": 45,
   "id": "389aa3d7",
   "metadata": {},
   "outputs": [
    {
     "name": "stdout",
     "output_type": "stream",
     "text": [
      "oha\n"
     ]
    }
   ],
   "source": [
    "#Negative indexing\n",
    "b = \"manohar\"\n",
    "print(b[-4:-1])"
   ]
  },
  {
   "cell_type": "code",
   "execution_count": 7,
   "id": "bf800c96",
   "metadata": {},
   "outputs": [
    {
     "name": "stdout",
     "output_type": "stream",
     "text": [
      "MANOHAR\n",
      "manohar\n",
      "Hello, World!\n",
      "Manohar krishnan\n",
      "['Manohar ', 'rishnan']\n"
     ]
    }
   ],
   "source": [
    "#modifing strings\n",
    "\n",
    "#.uppercase\n",
    "a = \"Manohar\"\n",
    "print(a.upper())\n",
    "\n",
    "#.lowercase\n",
    "a = \"ManohaR\"\n",
    "print(a.lower())\n",
    "\n",
    "#.strip() method used remove whitespaces\n",
    "a = \"   Hello, World!   \"\n",
    "print(a.strip())\n",
    "\n",
    "#.replace method used to replace a str with other str\n",
    "a = \"manohar krishnan\"\n",
    "print(a.replace(\"m\",\"M\"))\n",
    "\n",
    "#.split str\n",
    "a = \"Manohar krishnan\"\n",
    "print(a.split(\"k\"))"
   ]
  },
  {
   "cell_type": "code",
   "execution_count": 7,
   "id": "0689f3f7",
   "metadata": {},
   "outputs": [
    {
     "name": "stdout",
     "output_type": "stream",
     "text": [
      "ramsita\n",
      "jai ram\n"
     ]
    }
   ],
   "source": [
    "#str concatenation\n",
    "a = \"ram\"\n",
    "b = \"sita\"\n",
    "c = a + b\n",
    "print(c)\n",
    "\n",
    "#to add space b/t str we use --> \" \"\n",
    "a = \"jai\"\n",
    "b = \"ram\"\n",
    "c= a+\" \"+b\n",
    "print(c)"
   ]
  },
  {
   "cell_type": "code",
   "execution_count": 9,
   "id": "acb8d4d3",
   "metadata": {},
   "outputs": [
    {
     "name": "stdout",
     "output_type": "stream",
     "text": [
      "My name is manu, Iam 25\n"
     ]
    }
   ],
   "source": [
    "#string format, we use format() method to add int,str\n",
    "age = 25\n",
    "text = \"My name is manu, Iam {}\"\n",
    "print(text.format(age))"
   ]
  },
  {
   "cell_type": "code",
   "execution_count": 12,
   "id": "d50c447a",
   "metadata": {},
   "outputs": [
    {
     "name": "stdout",
     "output_type": "stream",
     "text": [
      "i want 34 pieces of item 19 for 499 rupees\n"
     ]
    }
   ],
   "source": [
    "#format() multiple arguments\n",
    "quantity = 34\n",
    "item_no  = 19\n",
    "price = 499\n",
    "my_order = \"i want {} pieces of item {} for {} rupees\"\n",
    "print(my_order.format(quantity,item_no,price))"
   ]
  },
  {
   "cell_type": "code",
   "execution_count": 13,
   "id": "84eae6c5",
   "metadata": {},
   "outputs": [
    {
     "name": "stdout",
     "output_type": "stream",
     "text": [
      "i want to pay 499 rupees for 34 pieces of 19 item\n"
     ]
    }
   ],
   "source": [
    "#format() using index concept in placeholders\n",
    "quantity = 34\n",
    "item_no  = 19\n",
    "price = 499\n",
    "myorder = \"i want to pay {2} rupees for {0} pieces of {1} item\"\n",
    "print(myorder.format(quantity,item_no,price))"
   ]
  },
  {
   "cell_type": "code",
   "execution_count": 15,
   "id": "3e4e371c",
   "metadata": {},
   "outputs": [
    {
     "name": "stdout",
     "output_type": "stream",
     "text": [
      "manohar \"raj\" krishna\n"
     ]
    }
   ],
   "source": [
    "#escape character  insert character inside of str --> \\\"\n",
    "name = \"manohar \\\"raj\\\" krishna\"\n",
    "print(name)"
   ]
  },
  {
   "cell_type": "code",
   "execution_count": 18,
   "id": "d234f6bf",
   "metadata": {},
   "outputs": [
    {
     "name": "stdout",
     "output_type": "stream",
     "text": [
      "False\n",
      "False\n",
      "True\n"
     ]
    }
   ],
   "source": [
    "#booleans\n",
    "print(10<9)\n",
    "print(10 == 9)\n",
    "print(10>9)"
   ]
  },
  {
   "cell_type": "code",
   "execution_count": 29,
   "id": "f3498c35",
   "metadata": {},
   "outputs": [
    {
     "name": "stdout",
     "output_type": "stream",
     "text": [
      "False\n"
     ]
    }
   ],
   "source": [
    "class myclass():\n",
    "    def _len_(self):\n",
    "        return 0\n",
    "myobj = None\n",
    "print(bool(myobj))"
   ]
  },
  {
   "cell_type": "code",
   "execution_count": 30,
   "id": "af002265",
   "metadata": {},
   "outputs": [
    {
     "name": "stdout",
     "output_type": "stream",
     "text": [
      "a is greater than b\n"
     ]
    }
   ],
   "source": [
    "#if statement can return bool\n",
    "a = 50\n",
    "b = 25\n",
    "if a>b:\n",
    "    print(\"a is greater than b\")\n",
    "else:\n",
    "    print(\"a is not greater than b \")"
   ]
  },
  {
   "cell_type": "code",
   "execution_count": 31,
   "id": "f5064eef",
   "metadata": {},
   "outputs": [
    {
     "name": "stdout",
     "output_type": "stream",
     "text": [
      "True\n",
      "True\n"
     ]
    }
   ],
   "source": [
    "#evaluate values as bool\n",
    "a = 10\n",
    "b = \"rajyasabha\"\n",
    "print(bool(a))\n",
    "print(bool(b))"
   ]
  },
  {
   "cell_type": "code",
   "execution_count": 32,
   "id": "2948a5c5",
   "metadata": {},
   "outputs": [
    {
     "name": "stdout",
     "output_type": "stream",
     "text": [
      "True\n"
     ]
    }
   ],
   "source": [
    "#function can return bool\n",
    "def myfunction():\n",
    "    return True\n",
    "print(myfunction())"
   ]
  },
  {
   "cell_type": "code",
   "execution_count": 33,
   "id": "567d0d26",
   "metadata": {},
   "outputs": [
    {
     "name": "stdout",
     "output_type": "stream",
     "text": [
      "YES!\n"
     ]
    }
   ],
   "source": [
    "#Print \"YES!\" if the function returns True, \n",
    "#otherwise print \"NO!\".\n",
    "def myfunc():\n",
    "    return True\n",
    "if myfunc():\n",
    "    print(\"YES!\")\n",
    "else:\n",
    "    print(\"NO!\")\n"
   ]
  },
  {
   "cell_type": "code",
   "execution_count": 34,
   "id": "543413e2",
   "metadata": {},
   "outputs": [
    {
     "name": "stdout",
     "output_type": "stream",
     "text": [
      "True\n"
     ]
    }
   ],
   "source": [
    "#boolean Built-in function --> isinstance()\n",
    "x = 388\n",
    "print(isinstance(x,int))"
   ]
  },
  {
   "cell_type": "code",
   "execution_count": null,
   "id": "d4981093",
   "metadata": {},
   "outputs": [],
   "source": []
  }
 ],
 "metadata": {
  "kernelspec": {
   "display_name": "Python 3 (ipykernel)",
   "language": "python",
   "name": "python3"
  },
  "language_info": {
   "codemirror_mode": {
    "name": "ipython",
    "version": 3
   },
   "file_extension": ".py",
   "mimetype": "text/x-python",
   "name": "python",
   "nbconvert_exporter": "python",
   "pygments_lexer": "ipython3",
   "version": "3.11.3"
  }
 },
 "nbformat": 4,
 "nbformat_minor": 5
}
