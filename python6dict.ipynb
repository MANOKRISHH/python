{
 "cells": [
  {
   "cell_type": "code",
   "execution_count": 4,
   "id": "83ce7af3",
   "metadata": {},
   "outputs": [
    {
     "name": "stdout",
     "output_type": "stream",
     "text": [
      "{'name': 'checck shirt', 'color': 'yellow', 'size': '40cm', 'price': '1,499'}\n"
     ]
    }
   ],
   "source": [
    "#dict display\n",
    "shirt = {\n",
    "    \"name\":\"checck shirt\",\n",
    "    \"color\":\"yellow\",\n",
    "    \"size\":\"40cm\",\n",
    "    \"price\":\"1,499\"\n",
    "}\n",
    "print(shirt)"
   ]
  },
  {
   "cell_type": "code",
   "execution_count": 1,
   "id": "485977a2",
   "metadata": {},
   "outputs": [
    {
     "name": "stdout",
     "output_type": "stream",
     "text": [
      "1,499\n"
     ]
    }
   ],
   "source": [
    "#dict \n",
    "shirt = {\n",
    "    \"name\":\"checck shirt\",\n",
    "    \"color\":\"yellow\",\n",
    "    \"size\":\"40cm\",\n",
    "    \"price\":\"1,499\"\n",
    "}\n",
    "print(shirt[\"price\"])"
   ]
  },
  {
   "cell_type": "code",
   "execution_count": 2,
   "id": "cb2ba496",
   "metadata": {},
   "outputs": [
    {
     "name": "stdout",
     "output_type": "stream",
     "text": [
      "{'brand': 'Ford', 'model': 'Mustang', 'year': 2020}\n"
     ]
    }
   ],
   "source": [
    "#Duplicate values will overwrite existing values:\n",
    "\n",
    "thisdict = {\n",
    "  \"brand\": \"Ford\",\n",
    "  \"model\": \"Mustang\",\n",
    "  \"year\": 1964,\n",
    "  \"year\": 2020\n",
    "}\n",
    "print(thisdict)"
   ]
  },
  {
   "cell_type": "code",
   "execution_count": 4,
   "id": "20cce066",
   "metadata": {},
   "outputs": [
    {
     "name": "stdout",
     "output_type": "stream",
     "text": [
      "3\n",
      "<class 'dict'>\n"
     ]
    }
   ],
   "source": [
    "dict = {\n",
    "    \"name\":\"asu\",\n",
    "    \"age\":25,\n",
    "    \"class\":\"b.com\"\n",
    "}\n",
    "print(len(dict))\n",
    "print(type(dict))"
   ]
  },
  {
   "cell_type": "code",
   "execution_count": 21,
   "id": "9033ee66",
   "metadata": {},
   "outputs": [
    {
     "name": "stdout",
     "output_type": "stream",
     "text": [
      "200000\n",
      "red\n",
      "dict_keys(['name', 'color', 'price', 'brand'])\n",
      "dict_values(['car', 'red', 200000, 'horse'])\n",
      "dict_items([('name', 'car'), ('color', 'red'), ('price', 200000), ('brand', 'horse')])\n"
     ]
    }
   ],
   "source": [
    "dict = {\n",
    "    \"name\": \"car\",\n",
    "    \"color\": \"red\",\n",
    "    \"price\": 200000\n",
    "}\n",
    "dict[\"brand\"] = \"horse\"\n",
    "x = dict[\"price\"]\n",
    "print(x)\n",
    "\n",
    "y = dict.get(\"color\")\n",
    "print(y)\n",
    "\n",
    "z = dict.keys()\n",
    "print(z)\n",
    "\n",
    "p = dict.values()\n",
    "print(p)\n",
    "\n",
    "a = dict.items()\n",
    "print(a)\n"
   ]
  },
  {
   "cell_type": "code",
   "execution_count": 22,
   "id": "32ba43dd",
   "metadata": {},
   "outputs": [
    {
     "name": "stdout",
     "output_type": "stream",
     "text": [
      "Yes, 'model' is one of the keys in the thisdict dictionary\n"
     ]
    }
   ],
   "source": [
    "thisdict = {\n",
    "  \"brand\": \"Ford\",\n",
    "  \"model\": \"Mustang\",\n",
    "  \"year\": 1964\n",
    "}\n",
    "if \"model\" in thisdict:\n",
    "  print(\"Yes, 'model' is one of the keys in the thisdict dictionary\")"
   ]
  },
  {
   "cell_type": "code",
   "execution_count": 26,
   "id": "849ec4cc",
   "metadata": {},
   "outputs": [
    {
     "name": "stdout",
     "output_type": "stream",
     "text": [
      "{'brand': 'Ford', 'model': 'Mustang', 'year': 2018}\n",
      "{'brand': 'Ford', 'model': 'Mustang', 'year': 2020}\n"
     ]
    }
   ],
   "source": [
    "thisdict = {\n",
    "  \"brand\": \"Ford\",\n",
    "  \"model\": \"Mustang\",\n",
    "  \"year\": 1964\n",
    "}\n",
    "thisdict[\"year\"] = 2018\n",
    "print(thisdict)\n",
    "\n",
    "thisdict.update({\"year\": 2020})\n",
    "print(thisdict)"
   ]
  },
  {
   "cell_type": "code",
   "execution_count": 27,
   "id": "6f3a4d6f",
   "metadata": {},
   "outputs": [
    {
     "name": "stdout",
     "output_type": "stream",
     "text": [
      "{'name': 'surya', 'brand': 'ganga', 'color': 'blue', 'logo': 'sun rising'}\n"
     ]
    }
   ],
   "source": [
    "dict = {\n",
    "    \"name\":\"surya\",\n",
    "    \"brand\":\"ganga\",\n",
    "    \"color\":\"blue\"\n",
    "}\n",
    "dict[\"logo\"] = \"sun rising\"\n",
    "print(dict)"
   ]
  },
  {
   "cell_type": "code",
   "execution_count": 28,
   "id": "99dd78ad",
   "metadata": {},
   "outputs": [
    {
     "name": "stdout",
     "output_type": "stream",
     "text": [
      "<class 'dict'>\n"
     ]
    }
   ],
   "source": [
    "dict = {\n",
    "    \"name\":\"surya\",\n",
    "    \"brand\":\"ganga\",\n",
    "    \"color\":\"blue\"\n",
    "}\n",
    "del dict\n",
    "print(dict)"
   ]
  },
  {
   "cell_type": "code",
   "execution_count": null,
   "id": "4608b002",
   "metadata": {},
   "outputs": [],
   "source": []
  }
 ],
 "metadata": {
  "kernelspec": {
   "display_name": "Python 3 (ipykernel)",
   "language": "python",
   "name": "python3"
  },
  "language_info": {
   "codemirror_mode": {
    "name": "ipython",
    "version": 3
   },
   "file_extension": ".py",
   "mimetype": "text/x-python",
   "name": "python",
   "nbconvert_exporter": "python",
   "pygments_lexer": "ipython3",
   "version": "3.11.3"
  }
 },
 "nbformat": 4,
 "nbformat_minor": 5
}
