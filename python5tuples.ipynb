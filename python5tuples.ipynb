{
 "cells": [
  {
   "cell_type": "code",
   "execution_count": 2,
   "id": "38cd04bc",
   "metadata": {},
   "outputs": [
    {
     "name": "stdout",
     "output_type": "stream",
     "text": [
      "('physics', 'geology', 'math')\n"
     ]
    }
   ],
   "source": [
    "tuples = (\"physics\",\"geology\",\"math\");\n",
    "print(tuples)"
   ]
  },
  {
   "cell_type": "code",
   "execution_count": 3,
   "id": "e3c8bd05",
   "metadata": {},
   "outputs": [
    {
     "name": "stdout",
     "output_type": "stream",
     "text": [
      "('string', 1998, 2023) (1, 2, 3, 4, 5, 6) ('a', 'b', 'c', 'd')\n"
     ]
    }
   ],
   "source": [
    "tup1 = ('string',1998,2023);\n",
    "tup2 = (1,2,3,4,5,6);\n",
    "tup3 = \"a\",\"b\",\"c\",\"d\";\n",
    "print(tup1,tup2,tup3)"
   ]
  },
  {
   "cell_type": "code",
   "execution_count": 4,
   "id": "05529d4b",
   "metadata": {},
   "outputs": [
    {
     "name": "stdout",
     "output_type": "stream",
     "text": [
      "()\n"
     ]
    }
   ],
   "source": [
    "tup1 = ();\n",
    "print(tup1)"
   ]
  },
  {
   "cell_type": "code",
   "execution_count": 5,
   "id": "b214ba9d",
   "metadata": {},
   "outputs": [
    {
     "name": "stdout",
     "output_type": "stream",
     "text": [
      "(50,)\n"
     ]
    }
   ],
   "source": [
    "tup1 = (50,);\n",
    "print(tup1)"
   ]
  },
  {
   "cell_type": "code",
   "execution_count": 6,
   "id": "20a2f2b3",
   "metadata": {},
   "outputs": [
    {
     "name": "stdout",
     "output_type": "stream",
     "text": [
      "apple\n"
     ]
    }
   ],
   "source": [
    "#accessing values in tuples\n",
    "tup1 = (\"apple\",\"mango\",\"cherry\");\n",
    "print(tup1[0])"
   ]
  },
  {
   "cell_type": "code",
   "execution_count": 8,
   "id": "27a47864",
   "metadata": {},
   "outputs": [
    {
     "name": "stdout",
     "output_type": "stream",
     "text": [
      "(12, 3, 4, 12, 43, 5, 'str')\n"
     ]
    }
   ],
   "source": [
    "#tuples cannot update,immutable,but can create one\n",
    "tup1 = (12,3,4);\n",
    "tup2 = (12,43,5,\"str\");\n",
    "tup3 = tup1 + tup2;\n",
    "print(tup3);"
   ]
  },
  {
   "cell_type": "code",
   "execution_count": 13,
   "id": "eb1f2ebe",
   "metadata": {},
   "outputs": [
    {
     "name": "stdout",
     "output_type": "stream",
     "text": [
      "('apple', 'mango', 'cherry')\n",
      "after delete the tup1\n"
     ]
    }
   ],
   "source": [
    "tup1 = (\"apple\",\"mango\",\"cherry\");\n",
    "print(tup1);\n",
    "del tup1;\n",
    "print(\"after delete the tup1\")"
   ]
  }
 ],
 "metadata": {
  "kernelspec": {
   "display_name": "Python 3 (ipykernel)",
   "language": "python",
   "name": "python3"
  },
  "language_info": {
   "codemirror_mode": {
    "name": "ipython",
    "version": 3
   },
   "file_extension": ".py",
   "mimetype": "text/x-python",
   "name": "python",
   "nbconvert_exporter": "python",
   "pygments_lexer": "ipython3",
   "version": "3.11.3"
  }
 },
 "nbformat": 4,
 "nbformat_minor": 5
}
